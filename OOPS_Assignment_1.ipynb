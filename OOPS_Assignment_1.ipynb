{
 "cells": [
  {
   "cell_type": "markdown",
   "id": "323f0206-90ac-4bfb-83bb-aeb91a604c7f",
   "metadata": {},
   "source": [
    "Q1. Explain Class and Object with respect to Object-Oriented Programming. Give a suitable example.\n",
    "\n",
    "Q2. Name the four pillars of OOPs.\n",
    "\n",
    "Q3. Explain why the __init__() function is used. Give a suitable example.\n",
    "\n",
    "Q4. Why self is used in OOPs?\n",
    "\n",
    "Q5. What is inheritance? Give an example for each type of inheritance."
   ]
  },
  {
   "cell_type": "markdown",
   "id": "efce739e-55b4-4205-b406-0dbf8fcf360d",
   "metadata": {},
   "source": [
    "ANSWER"
   ]
  },
  {
   "cell_type": "markdown",
   "id": "0750751f-6cbd-4172-ba7a-a55868528fd9",
   "metadata": {},
   "source": [
    "Q1. Explain Class and Object with respect to Object-Oriented Programming. Give a suitable example."
   ]
  },
  {
   "cell_type": "markdown",
   "id": "2befa8cd-74c7-4074-84fb-fa65c90eac1e",
   "metadata": {},
   "source": [
    "Class===> Class is a blue print of an object.\n",
    "\n",
    "Object ===> Object is an instance of class."
   ]
  },
  {
   "cell_type": "code",
   "execution_count": 1,
   "id": "6bef2d05-fced-42ec-b007-e6eb28482cf6",
   "metadata": {},
   "outputs": [],
   "source": [
    "class student:\n",
    "    def __init__(self,name,subject):\n",
    "        self.name=name\n",
    "        self.subject=subject\n",
    "    def display(self):\n",
    "        return self.name,self.subject\n",
    "    "
   ]
  },
  {
   "cell_type": "code",
   "execution_count": 2,
   "id": "75636ed8-a4d5-4346-a99c-f56fa81c7ebe",
   "metadata": {},
   "outputs": [
    {
     "data": {
      "text/plain": [
       "('Madhu', 'Math')"
      ]
     },
     "execution_count": 2,
     "metadata": {},
     "output_type": "execute_result"
    }
   ],
   "source": [
    "s=student(\"Madhu\",\"Math\")\n",
    "s.display()"
   ]
  },
  {
   "cell_type": "code",
   "execution_count": 3,
   "id": "6ef9a3de-b007-45d1-a442-552ee0a406a8",
   "metadata": {},
   "outputs": [
    {
     "data": {
      "text/plain": [
       "('Rajat', 'Science')"
      ]
     },
     "execution_count": 3,
     "metadata": {},
     "output_type": "execute_result"
    }
   ],
   "source": [
    "s1=student(\"Rajat\",\"Science\")\n",
    "s1.display()"
   ]
  },
  {
   "cell_type": "markdown",
   "id": "7f8a460a-1fa3-405e-a19b-d777e3c47fb6",
   "metadata": {},
   "source": [
    "in above example class student is created (like blueprint) and after that s and s1 are object(Instance of class) created which \n",
    "ann call any number of student in this example we can easily understand that more than one object are created of a class."
   ]
  },
  {
   "cell_type": "markdown",
   "id": "c4d690d3-ce6e-47a7-820a-02501b40470e",
   "metadata": {},
   "source": [
    "Q2. Name the four pillars of OOPs."
   ]
  },
  {
   "cell_type": "markdown",
   "id": "2d71cef1-9d70-4f07-955d-17f0ef527c41",
   "metadata": {},
   "source": [
    "1. Inheritance\n",
    "2. Polymorphism\n",
    "3. Encapsulation\n",
    "4. Abstraction"
   ]
  },
  {
   "cell_type": "markdown",
   "id": "25c9bdbe-c246-4d5d-864c-fd819b67d287",
   "metadata": {},
   "source": [
    "Q3. Explain why the init() function is used. Give a suitable example."
   ]
  },
  {
   "cell_type": "markdown",
   "id": "0644448b-6c80-4622-ae24-b35a6c670a7b",
   "metadata": {},
   "source": [
    "init()===> init() function is use to initiate the value. It call when object of class is created and it alsocalled as constructor."
   ]
  },
  {
   "cell_type": "code",
   "execution_count": 4,
   "id": "7b4c0d13-ac54-488b-84a8-1b8ddc5ad861",
   "metadata": {},
   "outputs": [],
   "source": [
    "class cons:\n",
    "    def __init__(self,num):\n",
    "        self.num=num"
   ]
  },
  {
   "cell_type": "code",
   "execution_count": 5,
   "id": "0b198e3c-5f74-42fb-9161-3330166ebae1",
   "metadata": {},
   "outputs": [],
   "source": [
    "c=cons(26)"
   ]
  },
  {
   "cell_type": "markdown",
   "id": "0a74b9bf-f7c0-4f1d-9145-230c04039f5f",
   "metadata": {},
   "source": [
    "Q4. Why self is used in OOPs?"
   ]
  },
  {
   "cell_type": "code",
   "execution_count": null,
   "id": "344509c2-56ad-43d1-b58f-fbd4b6b126c3",
   "metadata": {},
   "outputs": [],
   "source": [
    "Self()===> self variable is used to represent the instance of class "
   ]
  },
  {
   "cell_type": "markdown",
   "id": "82ef7e41-766d-4f6a-9cb4-6e81fee31105",
   "metadata": {},
   "source": [
    "Q5. What is inheritance? Give an example for each type of inheritance."
   ]
  },
  {
   "cell_type": "markdown",
   "id": "34152e7b-a739-4bf9-9110-87e106ea6cd6",
   "metadata": {},
   "source": [
    "Inheritance ==> inheritance is the property of oops which extract the property and behivour of parent class to child class."
   ]
  },
  {
   "cell_type": "markdown",
   "id": "b56c6565-dcee-47ae-8182-23f0cc5bda4d",
   "metadata": {},
   "source": [
    "1. Single Inheritance"
   ]
  },
  {
   "cell_type": "code",
   "execution_count": 12,
   "id": "61be9786-a431-40a1-abe0-96595df475d6",
   "metadata": {},
   "outputs": [],
   "source": [
    "class A:\n",
    "    def displayA(self):\n",
    "        print(\"This is calss A \")\n",
    "class B(A):\n",
    "    def displayB(self):\n",
    "        print(\"This is class B \")"
   ]
  },
  {
   "cell_type": "code",
   "execution_count": 13,
   "id": "65e055b9-68d6-40d8-8553-06f8e9d29e82",
   "metadata": {},
   "outputs": [],
   "source": [
    "obj_b=B()"
   ]
  },
  {
   "cell_type": "code",
   "execution_count": 14,
   "id": "4d59b588-454a-4407-ab55-58e8aff5f373",
   "metadata": {},
   "outputs": [
    {
     "name": "stdout",
     "output_type": "stream",
     "text": [
      "This is class B \n"
     ]
    }
   ],
   "source": [
    "obj_b.displayB()"
   ]
  },
  {
   "cell_type": "code",
   "execution_count": 15,
   "id": "f85989f8-0444-45e3-a97c-09e438c1ed1d",
   "metadata": {},
   "outputs": [
    {
     "name": "stdout",
     "output_type": "stream",
     "text": [
      "This is calss A \n"
     ]
    }
   ],
   "source": [
    "obj_b.displayA()"
   ]
  },
  {
   "cell_type": "markdown",
   "id": "d9706576-dd57-4692-ad7b-6d31076e3627",
   "metadata": {},
   "source": [
    "2. Multiple Inheritance"
   ]
  },
  {
   "cell_type": "code",
   "execution_count": 36,
   "id": "3debe291-b0af-42f7-8122-e278d77ff5a8",
   "metadata": {},
   "outputs": [],
   "source": [
    "class Name:\n",
    "    def display_name(self,name):\n",
    "        self.name=name\n",
    "        print(self.name)\n",
    "class Age:\n",
    "    def display_age(self,age):\n",
    "        self.age=age\n",
    "        print(self.age)\n",
    "class Details(Name,Age):\n",
    "    pass"
   ]
  },
  {
   "cell_type": "code",
   "execution_count": 37,
   "id": "efcaa39e-d13a-4cb7-9188-efe93ebc2678",
   "metadata": {},
   "outputs": [],
   "source": [
    "obj_details=Details()"
   ]
  },
  {
   "cell_type": "code",
   "execution_count": 38,
   "id": "44924316-a411-47f6-a4c6-179f14ba1149",
   "metadata": {},
   "outputs": [
    {
     "name": "stdout",
     "output_type": "stream",
     "text": [
      "Madhu\n"
     ]
    }
   ],
   "source": [
    "obj_details.display_name(\"Madhu\")"
   ]
  },
  {
   "cell_type": "code",
   "execution_count": 39,
   "id": "b2c4966d-33f3-4e7c-8b4d-6d899ffdab54",
   "metadata": {},
   "outputs": [
    {
     "name": "stdout",
     "output_type": "stream",
     "text": [
      "27\n"
     ]
    }
   ],
   "source": [
    "obj_details.display_age(27)"
   ]
  },
  {
   "cell_type": "markdown",
   "id": "730ea28b-4051-4275-b625-e22c8e608a76",
   "metadata": {},
   "source": [
    "3. Multilevel Inheritance"
   ]
  },
  {
   "cell_type": "code",
   "execution_count": 45,
   "id": "3d4ccdea-8b81-46f6-b204-07da669c7c5f",
   "metadata": {},
   "outputs": [],
   "source": [
    "class test:\n",
    "    def display(self):\n",
    "        print(\"This is test\")\n",
    "class test1(test):\n",
    "    def display_1(self):\n",
    "        print(\"This is test 1\")\n",
    "class test2(test1):\n",
    "    def dispaly_2(self):\n",
    "        print(\"This is test 2\")"
   ]
  },
  {
   "cell_type": "code",
   "execution_count": 46,
   "id": "b533e439-ad66-4f7e-96ff-1b40f46239d9",
   "metadata": {},
   "outputs": [],
   "source": [
    "obj_test2=test2()"
   ]
  },
  {
   "cell_type": "code",
   "execution_count": 48,
   "id": "b3b74acc-efe0-4261-b37e-347b3ca7d052",
   "metadata": {},
   "outputs": [
    {
     "name": "stdout",
     "output_type": "stream",
     "text": [
      "This is test 2\n"
     ]
    }
   ],
   "source": [
    "obj_test2.dispaly_2()"
   ]
  },
  {
   "cell_type": "code",
   "execution_count": 49,
   "id": "fa2c450c-4ebf-4848-a18c-32a7b3e24685",
   "metadata": {},
   "outputs": [
    {
     "name": "stdout",
     "output_type": "stream",
     "text": [
      "This is test\n"
     ]
    }
   ],
   "source": [
    "obj_test2.display()"
   ]
  },
  {
   "cell_type": "code",
   "execution_count": 50,
   "id": "9424505c-d125-42e7-8380-65058791ff8a",
   "metadata": {},
   "outputs": [
    {
     "name": "stdout",
     "output_type": "stream",
     "text": [
      "This is test 1\n"
     ]
    }
   ],
   "source": [
    "obj_test2.display_1()"
   ]
  }
 ],
 "metadata": {
  "kernelspec": {
   "display_name": "Python 3 (ipykernel)",
   "language": "python",
   "name": "python3"
  },
  "language_info": {
   "codemirror_mode": {
    "name": "ipython",
    "version": 3
   },
   "file_extension": ".py",
   "mimetype": "text/x-python",
   "name": "python",
   "nbconvert_exporter": "python",
   "pygments_lexer": "ipython3",
   "version": "3.10.8"
  }
 },
 "nbformat": 4,
 "nbformat_minor": 5
}
